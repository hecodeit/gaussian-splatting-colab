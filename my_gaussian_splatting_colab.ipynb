{
  "cells": [
    {
      "cell_type": "markdown",
      "metadata": {
        "id": "view-in-github",
        "colab_type": "text"
      },
      "source": [
        "<a href=\"https://colab.research.google.com/github/hecodeit/gaussian-splatting-colab/blob/main/my_gaussian_splatting_colab.ipynb\" target=\"_parent\"><img src=\"https://colab.research.google.com/assets/colab-badge.svg\" alt=\"Open In Colab\"/></a>"
      ]
    },
    {
      "cell_type": "code",
      "source": [
        "%cd /content"
      ],
      "metadata": {
        "id": "Bj-IXAP51AEk",
        "outputId": "018df74d-7d21-49ae-e0c0-43ee2bc5b881",
        "colab": {
          "base_uri": "https://localhost:8080/"
        }
      },
      "execution_count": 1,
      "outputs": [
        {
          "output_type": "stream",
          "name": "stdout",
          "text": [
            "/content\n"
          ]
        }
      ]
    },
    {
      "cell_type": "code",
      "source": [
        "!git clone --recursive https://github.com/camenduru/gaussian-splatting\n",
        "!pip install -q plyfile\n",
        "\n",
        "%cd /content/gaussian-splatting\n",
        "!pip install -q https://huggingface.co/camenduru/gaussian-splatting/resolve/main/diff_gaussian_rasterization-0.0.0-cp310-cp310-linux_x86_64.whl\n",
        "!pip install -q https://huggingface.co/camenduru/gaussian-splatting/resolve/main/simple_knn-0.0.0-cp310-cp310-linux_x86_64.whl"
      ],
      "metadata": {
        "id": "DUOmug7q1m13",
        "outputId": "fe6f9681-5733-4e08-f86f-f3d828342f1d",
        "colab": {
          "base_uri": "https://localhost:8080/"
        }
      },
      "execution_count": 2,
      "outputs": [
        {
          "output_type": "stream",
          "name": "stdout",
          "text": [
            "Cloning into 'gaussian-splatting'...\n",
            "remote: Enumerating objects: 603, done.\u001b[K\n",
            "remote: Total 603 (delta 0), reused 0 (delta 0), pack-reused 603\u001b[K\n",
            "Receiving objects: 100% (603/603), 2.09 MiB | 5.47 MiB/s, done.\n",
            "Resolving deltas: 100% (349/349), done.\n",
            "Submodule 'SIBR_viewers' (https://gitlab.inria.fr/sibr/sibr_core) registered for path 'SIBR_viewers'\n",
            "Submodule 'submodules/diff-gaussian-rasterization' (https://github.com/graphdeco-inria/diff-gaussian-rasterization) registered for path 'submodules/diff-gaussian-rasterization'\n",
            "Submodule 'submodules/simple-knn' (https://gitlab.inria.fr/bkerbl/simple-knn.git) registered for path 'submodules/simple-knn'\n",
            "Cloning into '/content/gaussian-splatting/SIBR_viewers'...\n",
            "warning: redirecting to https://gitlab.inria.fr/sibr/sibr_core.git/\n",
            "remote: Enumerating objects: 2879, done.        \n",
            "remote: Counting objects: 100% (1412/1412), done.        \n",
            "remote: Compressing objects: 100% (712/712), done.        \n",
            "remote: Total 2879 (delta 864), reused 1121 (delta 694), pack-reused 1467        \n",
            "Receiving objects: 100% (2879/2879), 8.07 MiB | 5.98 MiB/s, done.\n",
            "Resolving deltas: 100% (1698/1698), done.\n",
            "Cloning into '/content/gaussian-splatting/submodules/diff-gaussian-rasterization'...\n",
            "remote: Enumerating objects: 222, done.        \n",
            "remote: Counting objects: 100% (110/110), done.        \n",
            "remote: Compressing objects: 100% (31/31), done.        \n",
            "remote: Total 222 (delta 96), reused 79 (delta 79), pack-reused 112        \n",
            "Receiving objects: 100% (222/222), 75.57 KiB | 624.00 KiB/s, done.\n",
            "Resolving deltas: 100% (138/138), done.\n",
            "Cloning into '/content/gaussian-splatting/submodules/simple-knn'...\n",
            "remote: Enumerating objects: 23, done.        \n",
            "remote: Counting objects: 100% (23/23), done.        \n",
            "remote: Compressing objects: 100% (21/21), done.        \n",
            "remote: Total 23 (delta 10), reused 0 (delta 0), pack-reused 0        \n",
            "Receiving objects: 100% (23/23), 4.70 KiB | 4.70 MiB/s, done.\n",
            "Resolving deltas: 100% (10/10), done.\n",
            "Submodule path 'SIBR_viewers': checked out '14199886ae3f42358092c16ada909c1e0b1cba20'\n",
            "Submodule path 'submodules/diff-gaussian-rasterization': checked out '8064f52ca233942bdec2d1a1451c026deedd320b'\n",
            "Submodule 'third_party/glm' (https://github.com/g-truc/glm.git) registered for path 'submodules/diff-gaussian-rasterization/third_party/glm'\n",
            "Cloning into '/content/gaussian-splatting/submodules/diff-gaussian-rasterization/third_party/glm'...\n",
            "remote: Enumerating objects: 57259, done.        \n",
            "remote: Counting objects: 100% (335/335), done.        \n",
            "remote: Compressing objects: 100% (137/137), done.        \n",
            "remote: Total 57259 (delta 208), reused 276 (delta 193), pack-reused 56924        \n",
            "Receiving objects: 100% (57259/57259), 69.47 MiB | 24.59 MiB/s, done.\n",
            "Resolving deltas: 100% (43183/43183), done.\n",
            "Submodule path 'submodules/diff-gaussian-rasterization/third_party/glm': checked out '5c46b9c07008ae65cb81ab79cd677ecc1934b903'\n",
            "Submodule path 'submodules/simple-knn': checked out '44f764299fa305faf6ec5ebd99939e0508331503'\n",
            "/content/gaussian-splatting\n",
            "\u001b[2K     \u001b[90m━━━━━━━━━━━━━━━━━━━━━━━━━━━━━━━━━━━━━━━━\u001b[0m \u001b[32m3.0/3.0 MB\u001b[0m \u001b[31m33.1 MB/s\u001b[0m eta \u001b[36m0:00:00\u001b[0m\n",
            "\u001b[2K     \u001b[90m━━━━━━━━━━━━━━━━━━━━━━━━━━━━━━━━━━━━━━━━\u001b[0m \u001b[32m2.9/2.9 MB\u001b[0m \u001b[31m38.7 MB/s\u001b[0m eta \u001b[36m0:00:00\u001b[0m\n",
            "\u001b[?25h"
          ]
        }
      ]
    },
    {
      "cell_type": "code",
      "execution_count": 3,
      "metadata": {
        "id": "VjYy0F2gZIPR",
        "outputId": "2b215f84-b310-40db-f6c4-81ca2a9252d6",
        "colab": {
          "base_uri": "https://localhost:8080/"
        }
      },
      "outputs": [
        {
          "output_type": "stream",
          "name": "stdout",
          "text": [
            "Archive:  bedroom.zip\n",
            "   creating: bedroom/images/\n",
            "  inflating: bedroom/images/DSC05334.jpg  \n",
            "  inflating: bedroom/images/DSC05335.jpg  \n",
            "  inflating: bedroom/images/DSC05336.jpg  \n",
            "  inflating: bedroom/images/DSC05337.jpg  \n",
            "  inflating: bedroom/images/DSC05338.jpg  \n",
            "  inflating: bedroom/images/DSC05339.jpg  \n",
            "  inflating: bedroom/images/DSC05340.jpg  \n",
            "  inflating: bedroom/images/DSC05341.jpg  \n",
            "  inflating: bedroom/images/DSC05342.jpg  \n",
            "  inflating: bedroom/images/DSC05343.jpg  \n",
            "  inflating: bedroom/images/DSC05344.jpg  \n",
            "  inflating: bedroom/images/DSC05345.jpg  \n",
            "   creating: bedroom/sparse/\n",
            "   creating: bedroom/sparse/0/\n",
            "  inflating: bedroom/sparse/0/cameras.bin  \n",
            "  inflating: bedroom/sparse/0/images.bin  \n",
            "  inflating: bedroom/sparse/0/points3D.bin  \n",
            "2023-11-25 10:05:37.238708: E tensorflow/compiler/xla/stream_executor/cuda/cuda_dnn.cc:9342] Unable to register cuDNN factory: Attempting to register factory for plugin cuDNN when one has already been registered\n",
            "2023-11-25 10:05:37.238772: E tensorflow/compiler/xla/stream_executor/cuda/cuda_fft.cc:609] Unable to register cuFFT factory: Attempting to register factory for plugin cuFFT when one has already been registered\n",
            "2023-11-25 10:05:37.238814: E tensorflow/compiler/xla/stream_executor/cuda/cuda_blas.cc:1518] Unable to register cuBLAS factory: Attempting to register factory for plugin cuBLAS when one has already been registered\n",
            "2023-11-25 10:05:37.250094: I tensorflow/core/platform/cpu_feature_guard.cc:182] This TensorFlow binary is optimized to use available CPU instructions in performance-critical operations.\n",
            "To enable the following instructions: AVX2 AVX512F FMA, in other operations, rebuild TensorFlow with the appropriate compiler flags.\n",
            "2023-11-25 10:05:38.753327: W tensorflow/compiler/tf2tensorrt/utils/py_utils.cc:38] TF-TRT Warning: Could not find TensorRT\n",
            "Optimizing \n",
            "Output folder: ./output/10d33929-e [25/11 10:05:40]\n",
            "Reading camera 12/12 [25/11 10:05:40]\n",
            "Converting point3d.bin to .ply, will happen only the first time you open the scene. [25/11 10:05:40]\n",
            "Loading Training Cameras [25/11 10:05:52]\n",
            "Loading Test Cameras [25/11 10:05:54]\n",
            "Number of points at initialisation :  1658403 [25/11 10:05:55]\n",
            "Training progress:  70% 7000/10000 [25:44<11:47,  4.24it/s, Loss=0.0051397]\n",
            "[ITER 7000] Evaluating train: L1 0.0035553927533328537 PSNR 44.81161270141602 [25/11 10:31:55]\n",
            "\n",
            "[ITER 7000] Saving Gaussians [25/11 10:31:56]\n",
            "Training progress: 100% 10000/10000 [38:32<00:00,  4.32it/s, Loss=0.0047874]\n",
            "\n",
            "[ITER 10000] Saving Gaussians [25/11 10:44:28]\n",
            "\n",
            "Training complete. [25/11 10:44:45]\n"
          ]
        }
      ],
      "source": [
        "!unzip bedroom.zip\n",
        "\n",
        "!python train.py -s /content/gaussian-splatting/bedroom --resolution 1 --iterations 10000 --position_lr_max_steps 1\n",
        "\n",
        "# !wget https://huggingface.co/camenduru/gaussian-splatting/resolve/main/GaussianViewTest.zip\n",
        "# !unzip GaussianViewTest.zip\n",
        "# !python render.py -m /content/gaussian-splatting/GaussianViewTest/model\n",
        "# !ffmpeg -framerate 3 -i /content/gaussian-splatting/GaussianViewTest/model/train/ours_30000/renders/%05d.png -vf \"pad=ceil(iw/2)*2:ceil(ih/2)*2\" -c:v libx264 -r 3 -pix_fmt yuv420p /content/renders.mp4\n",
        "# !ffmpeg -framerate 3 -i /content/gaussian-splatting/GaussianViewTest/model/train/ours_30000/gt/%05d.png -vf \"pad=ceil(iw/2)*2:ceil(ih/2)*2\" -c:v libx264 -r 3 -pix_fmt yuv420p /content/gt.mp4 -y"
      ]
    },
    {
      "cell_type": "code",
      "source": [
        " !zip -r output.zip /content/gaussian-splatting/output"
      ],
      "metadata": {
        "id": "LG3N1osmfV6e",
        "outputId": "77962620-e537-49f4-bbff-b42ad82c7a64",
        "colab": {
          "base_uri": "https://localhost:8080/"
        }
      },
      "execution_count": 4,
      "outputs": [
        {
          "output_type": "stream",
          "name": "stdout",
          "text": [
            "  adding: content/gaussian-splatting/output/ (stored 0%)\n",
            "  adding: content/gaussian-splatting/output/10d33929-e/ (stored 0%)\n",
            "  adding: content/gaussian-splatting/output/10d33929-e/input.ply (deflated 51%)\n",
            "  adding: content/gaussian-splatting/output/10d33929-e/cfg_args (deflated 22%)\n",
            "  adding: content/gaussian-splatting/output/10d33929-e/cameras.json (deflated 64%)\n",
            "  adding: content/gaussian-splatting/output/10d33929-e/events.out.tfevents.1700906740.7073a5f1a82e.2652.0 (deflated 6%)\n",
            "  adding: content/gaussian-splatting/output/10d33929-e/point_cloud/ (stored 0%)\n",
            "  adding: content/gaussian-splatting/output/10d33929-e/point_cloud/iteration_10000/ (stored 0%)\n",
            "  adding: content/gaussian-splatting/output/10d33929-e/point_cloud/iteration_10000/point_cloud.ply (deflated 10%)\n",
            "  adding: content/gaussian-splatting/output/10d33929-e/point_cloud/iteration_7000/ (stored 0%)\n",
            "  adding: content/gaussian-splatting/output/10d33929-e/point_cloud/iteration_7000/point_cloud.ply (deflated 10%)\n"
          ]
        }
      ]
    }
  ],
  "metadata": {
    "accelerator": "GPU",
    "colab": {
      "gpuType": "T4",
      "provenance": [],
      "include_colab_link": true
    },
    "kernelspec": {
      "display_name": "Python 3",
      "name": "python3"
    },
    "language_info": {
      "name": "python"
    }
  },
  "nbformat": 4,
  "nbformat_minor": 0
}